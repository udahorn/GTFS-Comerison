{
 "cells": [
  {
   "cell_type": "code",
   "execution_count": null,
   "metadata": {},
   "outputs": [],
   "source": [
    "from IPython.display import display, HTML\n",
    "import pandas as pd\n",
    "import geopandas as gpd\n",
    "import gtfs_kit as gk\n",
    "import os\n",
    "from datetime import datetime\n",
    "import folium as fl\n",
    "import folium.plugins as fp\n",
    "import numpy as np\n",
    "import matplotlib.pyplot as plt"
   ]
  },
  {
   "cell_type": "code",
   "execution_count": null,
   "metadata": {},
   "outputs": [],
   "source": [
    "def highlight_greater(row):\n",
    "\n",
    "    if row[GTFS_A_name] != row[GTFS_B_name]:\n",
    "        color = '#d65f5f'\n",
    "    elif row[GTFS_A_name] == row[GTFS_B_name]:\n",
    "        color = '#5fba7d'\n",
    "\n",
    "    background = ['background-color: {}'.format(color) for _ in row]\n",
    "\n",
    "    return background"
   ]
  },
  {
   "cell_type": "code",
   "execution_count": null,
   "metadata": {},
   "outputs": [],
   "source": [
    "\n",
    "def highlight_file_modified(row):\n",
    "\n",
    "    if row['file_modified_GTFS_A'] != row['file_modified_GTFS_B']:\n",
    "        color = '#d65f5f'\n",
    "    elif row['file_modified_GTFS_B'] == row['file_modified_GTFS_A']:\n",
    "        color = '#5fba7d'\n",
    "    \n",
    "    background = ['background-color: {}'.format(color) for _ in row]\n",
    "\n",
    "    return background"
   ]
  },
  {
   "cell_type": "code",
   "execution_count": null,
   "metadata": {},
   "outputs": [],
   "source": [
    "def highlight_file_size(row):\n",
    "\n",
    "    if row['file_size_GTFS_A'] != row['file_size_GTFS_B']:\n",
    "        color = '#d65f5f'\n",
    "    elif row['file_size_GTFS_A'] == row['file_size_GTFS_B']:\n",
    "        color = '#5fba7d'\n",
    "    \n",
    "    background = ['background-color: {}'.format(color) for _ in row]\n",
    "\n",
    "    return background"
   ]
  },
  {
   "cell_type": "code",
   "execution_count": null,
   "metadata": {},
   "outputs": [],
   "source": [
    "def percentage_compare(tableA,tableB,value_check):\n",
    "\n",
    "    listA=tableA[value_check].to_list()\n",
    "    listB=tableB[value_check].to_list()\n",
    "    setA = set(listA)\n",
    "    setB = set(listB)\n",
    "\n",
    "    overlap = setA & setB\n",
    "    universe = setA | setB\n",
    "\n",
    "    OnlyInA_p = 100-float(len(overlap)) / len(setA) * 100\n",
    "    OnlyInA_n=len(setA)-len(overlap)\n",
    "    OnlyInB_p =100-float(len(overlap)) / len(setB) * 100\n",
    "    OnlyInB_n=len(setB)-len(overlap)\n",
    "    intersection =float(len(overlap)) / len(universe) * 100\n",
    "    intersection_n=len(overlap)\n",
    "    \n",
    "    return {value_check:[len(setA),len(setB),intersection_n,intersection,OnlyInA_n,OnlyInA_p,OnlyInB_n,OnlyInB_p]}\n"
   ]
  },
  {
   "cell_type": "code",
   "execution_count": null,
   "metadata": {},
   "outputs": [],
   "source": [
    "from difflib import SequenceMatcher\n",
    "\n",
    "def similar(a, b):\n",
    "    return SequenceMatcher(None, a, b).ratio()"
   ]
  },
  {
   "cell_type": "code",
   "execution_count": null,
   "metadata": {
    "collapsed": true,
    "scrolled": true,
    "tags": [
     "parameters"
    ]
   },
   "outputs": [],
   "source": [
    "GTFS_A = \"\"\n",
    "GTFS_B = \"\"\n"
   ]
  },
  {
   "cell_type": "code",
   "execution_count": null,
   "metadata": {},
   "outputs": [],
   "source": [
    "GTFS_A_name=os.path.basename(GTFS_A).split(\".zip\")[0]\n",
    "GTFS_B_name=os.path.basename(GTFS_B).split(\".zip\")[0]"
   ]
  },
  {
   "cell_type": "code",
   "execution_count": null,
   "metadata": {},
   "outputs": [],
   "source": [
    "feed_a = gk.read_feed(GTFS_A, dist_units='km')\n",
    "feed_b = gk.read_feed(GTFS_B, dist_units='km')"
   ]
  },
  {
   "cell_type": "code",
   "execution_count": null,
   "metadata": {},
   "outputs": [],
   "source": [
    "now = datetime.now() \n",
    "date_time = now.strftime(\"%d/%m/%Y, %H:%M:%S\")\n",
    "TODAY_STR = now.strftime('%Y%m%d')"
   ]
  },
  {
   "cell_type": "markdown",
   "metadata": {},
   "source": [
    "## GTFS High level comparison"
   ]
  },
  {
   "cell_type": "code",
   "execution_count": null,
   "metadata": {},
   "outputs": [],
   "source": [
    "GTFS_A_des=feed_a.describe(TODAY_STR)\n",
    "GTFS_B_des=feed_b.describe(TODAY_STR)\n",
    "\n",
    "df=pd.merge(GTFS_A_des, GTFS_B_des, on =[\"indicator\"],suffixes=('_GTFS_A', '_GTFS_B'))\n",
    "df = df.rename(columns={'value_GTFS_A': GTFS_A_name, 'value_GTFS_B': GTFS_B_name})\n",
    "df.loc[df.indicator == 'agencies', [GTFS_A_name, GTFS_B_name]]=len(GTFS_A_des.loc[GTFS_A_des.indicator == 'agencies', 'value'][0]),len(GTFS_B_des.loc[GTFS_B_des.indicator == 'agencies', 'value'][0])\n",
    "\n",
    "df=df.reset_index(drop=True)\n",
    "df.style.apply(highlight_greater, axis=1).set_table_attributes('style=\"font-size: 24px\"').hide_index()\n"
   ]
  },
  {
   "cell_type": "code",
   "execution_count": null,
   "metadata": {},
   "outputs": [],
   "source": [
    "parm= [[feed_a.agency,feed_b.agency,\"agency_id\"],[feed_a.agency,feed_b.agency,\"agency_name\"],\n",
    "       [feed_a.routes,feed_b.routes,\"route_id\"],[feed_a.routes,feed_b.routes,\"route_short_name\"],[feed_a.routes,feed_b.routes,\"route_long_name\"],[feed_a.routes,feed_b.routes,\"route_color\"],\n",
    "      [feed_a.trips,feed_b.trips,\"trip_id\"],[feed_a.trips,feed_b.trips,\"trip_headsign\"],\n",
    "      [feed_a.stops,feed_b.stops,\"stop_id\"],[feed_a.stops,feed_b.stops,\"stop_name\"]]\n",
    "\n",
    "copm_list={}\n",
    "for i in parm:\n",
    "    try:\n",
    "        copm_list.update(percentage_compare(i[0],i[1],i[2]))\n",
    "    except:\n",
    "        print(i[2])\n",
    "   \n",
    "\n",
    "  \n",
    "df=pd.DataFrame.from_dict(copm_list,orient='index' ,columns=[\"GTFS_A\",\"GTFS_B\",\"Overlap\",\"overlap (%)\",\"Only_A\",\"Only A (%)\", \"Only_B\",\"Only B (%)\"]) \n",
    "format_dict={'overlap (%)':'{0:,.2f}',\n",
    "            'Only A (%)':'{0:,.2f}',\n",
    "             'Only B (%)':'{0:,.2f}'}\n",
    "df.style.bar(subset=['overlap (%)', 'Only A (%)','Only B (%)'], align='zero', color=[ '#5fba7d']).set_table_attributes('style=\"font-size: 18px\"').format(format_dict).set_caption('Overlaps')\n"
   ]
  },
  {
   "cell_type": "code",
   "execution_count": null,
   "metadata": {},
   "outputs": [],
   "source": [
    "listA=feed_a.routes[\"route_long_name\"].to_list()\n",
    "listB=feed_b.routes[\"route_long_name\"].to_list()\n",
    "setA = set(listA)\n",
    "setB = set(listB)\n"
   ]
  },
  {
   "cell_type": "code",
   "execution_count": null,
   "metadata": {},
   "outputs": [],
   "source": [
    "#smart_overlap=[]\n",
    "for x in setA:\n",
    "    for y in setB:\n",
    "        score=similar(x,y)\n",
    "        if score>0.9:\n",
    "            print(x,\"|\",y,\"|\",score)"
   ]
  },
  {
   "cell_type": "markdown",
   "metadata": {},
   "source": [
    "## Basic shapes map"
   ]
  },
  {
   "cell_type": "code",
   "execution_count": null,
   "metadata": {},
   "outputs": [],
   "source": [
    "\n",
    "\n",
    "fig, axes = plt.subplots(nrows=1,ncols=2,figsize=(23,23))\n",
    "ax1,ax2=axes\n",
    "rg1=feed_a.geometrize_routes()\n",
    "rg2=feed_b.geometrize_routes()\n",
    "rg1.plot(ax=ax1)\n",
    "rg2.plot(ax=ax2)\n",
    "A=feed_a.compute_bounds()\n",
    "B=feed_b.compute_bounds()\n",
    "\n",
    "if np.allclose(A,B):\n",
    "    display(HTML(\"<h1 style='color:blue;''> The area of two GTFS are pretty similar </h1>\" ))\n",
    "else:\n",
    "    display(HTML(\"<h1 style='color:red;''>there are significant difference between GTFS area</h1>\" ))\n",
    "    "
   ]
  },
  {
   "cell_type": "markdown",
   "metadata": {},
   "source": [
    "## Stops Map"
   ]
  },
  {
   "cell_type": "code",
   "execution_count": null,
   "metadata": {},
   "outputs": [],
   "source": [
    "stop_ids_a=feed_a.stops.stop_id.to_list()\n",
    "stop_style_a = {\n",
    "    \"radius\": 8,\n",
    "    \"fill\": \"true\",\n",
    "    \"color\": 'red',\n",
    "    \"weight\": 1,\n",
    "    \"fillOpacity\": 0.75,\n",
    "}\n",
    "stop_ids_b=feed_b.stops.stop_id.to_list()\n",
    "stop_style_b = {\n",
    "    \"radius\": 8,\n",
    "    \"fill\": \"true\",\n",
    "    \"color\": 'green',\n",
    "    \"weight\": 1,\n",
    "    \"fillOpacity\": 0.75,\n",
    "}"
   ]
  },
  {
   "cell_type": "code",
   "execution_count": null,
   "metadata": {},
   "outputs": [],
   "source": [
    "my_map = fl.Map(tiles=\"cartodbpositron\")\n",
    "group = fl.FeatureGroup(name=f\"Stops {GTFS_A_name}\")\n",
    "stops_a = feed_a.stops.loc[lambda x: x.stop_id.isin(stop_ids_a)].fillna(\"n/a\")\n",
    "\n",
    "\n",
    "# Add stops with clustering\n",
    "callback = f\"\"\"\\\n",
    "function (row) {{\n",
    "    var imarker;\n",
    "    marker = L.circleMarker(new L.LatLng(row[0], row[1]),\n",
    "        {stop_style_a}\n",
    "    );\n",
    "    marker.bindPopup(\n",
    "        '<b>Stop name</b>: ' + row[2] + '<br>' +\n",
    "        '<b>Stop ID</b>: ' + row[3] + '<br>'\n",
    "    );\n",
    "    return marker;\n",
    "}};\n",
    "\"\"\"\n",
    "\n",
    "fp.FastMarkerCluster(\n",
    "    data=stops_a[\n",
    "        [\"stop_lat\", \"stop_lon\", \"stop_name\",  \"stop_id\"]\n",
    "    ].values.tolist(),\n",
    "    callback=callback,\n",
    "    disableClusteringAtZoom=14,\n",
    "    name=f\"Stops {GTFS_A_name}\"\n",
    ").add_to(my_map)\n",
    "\n",
    "fl.LayerControl().add_to(my_map)\n",
    "#fp.Search(group,position='topright',geom_type=\"Point\",search_label=\"stop_name\").add_to(my_map)\n",
    "fp.MiniMap().add_to(my_map)\n",
    "fp.Fullscreen().add_to(my_map)\n",
    "bounds = [(stops_a.stop_lat.min(), stops_a.stop_lon.min()),(stops_a.stop_lat.max(), stops_a.stop_lon.max()),]\n",
    "my_map.fit_bounds(bounds, padding=[1, 1])\n",
    "\n"
   ]
  },
  {
   "cell_type": "code",
   "execution_count": null,
   "metadata": {},
   "outputs": [],
   "source": [
    "my_map_b = fl.Map(tiles=\"cartodbpositron\")\n",
    "groupb = fl.FeatureGroup(name=f\"Stops {GTFS_B_name}\")\n",
    "stops_b = feed_b.stops.loc[lambda x: x.stop_id.isin(stop_ids_b)].fillna(\"n/a\")\n",
    "callback_b = f\"\"\"\\\n",
    "function (row) {{\n",
    "    var imarker;\n",
    "    marker = L.circleMarker(new L.LatLng(row[0], row[1]),\n",
    "        {stop_style_b}\n",
    "    );\n",
    "    marker.bindPopup(\n",
    "        '<b>Stop name</b>: ' + row[2] + '<br>' +\n",
    "        '<b>Stop ID</b>: ' + row[3] + '<br>'\n",
    "    );\n",
    "    return marker;\n",
    "}};\n",
    "\"\"\"\n",
    "fp.FastMarkerCluster(\n",
    "    data=stops_b[\n",
    "        [\"stop_lat\", \"stop_lon\", \"stop_name\",  \"stop_id\"]\n",
    "    ].values.tolist(),\n",
    "    callback=callback_b,\n",
    "    disableClusteringAtZoom=14,\n",
    "    name=f\"Stops {GTFS_B_name}\"\n",
    ").add_to(my_map_b)\n",
    "\n",
    "fp.MiniMap().add_to(my_map_b)\n",
    "fp.Fullscreen().add_to(my_map_b)\n",
    "fl.LayerControl().add_to(my_map_b)\n",
    "\n",
    "bounds = [(stops_b.stop_lat.min(), stops_b.stop_lon.min()),(stops_b.stop_lat.max(), stops_b.stop_lon.max()),]\n",
    "my_map_b.fit_bounds(bounds, padding=[1, 1])\n"
   ]
  },
  {
   "cell_type": "code",
   "execution_count": null,
   "metadata": {},
   "outputs": [],
   "source": [
    "htmlmap = HTML('<iframe srcdoc=\"{}\" style=\"float:left; width: {}px; height: {}px; display:inline-block; width: 49%; margin: 0 auto; border: 2px solid black\"></iframe>'\n",
    "           '<iframe srcdoc=\"{}\" style=\"float:right; width: {}px; height: {}px; display:inline-block; width: 49%; margin: 0 auto; border: 2px solid black\"></iframe>'\n",
    "           .format(my_map.get_root().render().replace('\"', '&quot;'),500,500,\n",
    "                   my_map_b.get_root().render().replace('\"', '&quot;'),500,500))\n",
    "display(htmlmap)"
   ]
  },
  {
   "cell_type": "code",
   "execution_count": null,
   "metadata": {},
   "outputs": [],
   "source": [
    "listA=feed_a.routes.route_id.to_list()\n",
    "listB=feed_b.routes.route_id.to_list()\n",
    "setA = set(listA)\n",
    "setB = set(listB)\n",
    "\n",
    "overlap = list(setA & setB)"
   ]
  },
  {
   "cell_type": "code",
   "execution_count": null,
   "metadata": {},
   "outputs": [],
   "source": [
    "overlap"
   ]
  },
  {
   "cell_type": "code",
   "execution_count": null,
   "metadata": {},
   "outputs": [],
   "source": [
    "route_map_a=feed_a.map_routes(overlap, include_stops=True)\n",
    "route_map_b=feed_b.map_routes(overlap, include_stops=True)\n",
    "\n",
    "htmlmap = HTML('<iframe srcdoc=\"{}\" style=\"float:left; width: {}px; height: {}px; display:inline-block; width: 49%; margin: 0 auto; border: 2px solid black\"></iframe>'\n",
    "           '<iframe srcdoc=\"{}\" style=\"float:right; width: {}px; height: {}px; display:inline-block; width: 49%; margin: 0 auto; border: 2px solid black\"></iframe>'\n",
    "           .format(route_map_a.get_root().render().replace('\"', '&quot;'),500,500,\n",
    "                   route_map_b.get_root().render().replace('\"', '&quot;'),500,500))\n",
    "display(htmlmap)"
   ]
  },
  {
   "cell_type": "code",
   "execution_count": null,
   "metadata": {},
   "outputs": [],
   "source": []
  }
 ],
 "metadata": {
  "celltoolbar": "Tags",
  "kernelspec": {
   "display_name": "Python 3",
   "language": "python",
   "name": "python3"
  },
  "language_info": {
   "codemirror_mode": {
    "name": "ipython",
    "version": 3
   },
   "file_extension": ".py",
   "mimetype": "text/x-python",
   "name": "python",
   "nbconvert_exporter": "python",
   "pygments_lexer": "ipython3",
   "version": "3.7.9"
  }
 },
 "nbformat": 4,
 "nbformat_minor": 2
}
